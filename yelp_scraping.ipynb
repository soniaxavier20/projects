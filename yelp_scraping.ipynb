{
 "cells": [
  {
   "cell_type": "markdown",
   "metadata": {
    "deletable": true,
    "editable": true
   },
   "source": []
  },
  {
   "cell_type": "markdown",
   "metadata": {
    "deletable": true,
    "editable": true
   },
   "source": [
    "### Writing a program that gets all the reviews for a  restaurant from Yelp.com. Scraping the complete URL for the Yelp page of the restaurant to get their obtain reviews."
   ]
  },
  {
   "cell_type": "markdown",
   "metadata": {
    "deletable": true,
    "editable": true
   },
   "source": []
  },
  {
   "cell_type": "markdown",
   "metadata": {
    "deletable": true,
    "editable": true
   },
   "source": [
    "#### The URL for the restaurant is:"
   ]
  },
  {
   "cell_type": "code",
   "execution_count": 1,
   "metadata": {
    "deletable": true,
    "editable": true
   },
   "outputs": [],
   "source": [
    "yelp_url = \"https://www.yelp.com/biz/j-wata-temaki-bar-san-diego-2?osq=restaurant\""
   ]
  },
  {
   "cell_type": "markdown",
   "metadata": {
    "deletable": true,
    "editable": true
   },
   "source": [
    " "
   ]
  },
  {
   "cell_type": "markdown",
   "metadata": {
    "deletable": true,
    "editable": true
   },
   "source": [
    "#### Creating a CSV file with the restaurant name, reviewers' name, and review.  "
   ]
  },
  {
   "cell_type": "code",
   "execution_count": 2,
   "metadata": {
    "deletable": true,
    "editable": true
   },
   "outputs": [
    {
     "data": {
      "text/plain": [
       "282"
      ]
     },
     "execution_count": 2,
     "metadata": {},
     "output_type": "execute_result"
    }
   ],
   "source": [
    "import urllib\n",
    "restaurant_name = 'j-wata-temaki-bar-san-diego'\n",
    "\n",
    "#dynamic entry of restaurant names\n",
    "yelp_rest_url = yelp_url[0:yelp_url.find('biz/')+4]+restaurant_name\n",
    "yelp_rest_url\n",
    "\n",
    "str1 = '{\"aggregateRating\": {\"reviewCount\":'\n",
    "rcstr =''\n",
    "html = urllib.request.urlopen(yelp_rest_url).read().decode('utf-8') \n",
    "\n",
    "#finding the number of reviews\n",
    "\n",
    "index = html.find(str1)\n",
    "rcstr = html[index:]\n",
    "rcstr = rcstr[len(str1)+1:rcstr.find(',')]\n",
    "review_count = int(rcstr)\n",
    "review_count"
   ]
  },
  {
   "cell_type": "code",
   "execution_count": 3,
   "metadata": {},
   "outputs": [
    {
     "name": "stdout",
     "output_type": "stream",
     "text": [
      "https://www.yelp.com/biz/j-wata-temaki-bar-san-diego?start=0\n",
      "https://www.yelp.com/biz/j-wata-temaki-bar-san-diego?start=20\n",
      "https://www.yelp.com/biz/j-wata-temaki-bar-san-diego?start=40\n",
      "https://www.yelp.com/biz/j-wata-temaki-bar-san-diego?start=60\n",
      "https://www.yelp.com/biz/j-wata-temaki-bar-san-diego?start=80\n",
      "https://www.yelp.com/biz/j-wata-temaki-bar-san-diego?start=100\n",
      "https://www.yelp.com/biz/j-wata-temaki-bar-san-diego?start=120\n",
      "https://www.yelp.com/biz/j-wata-temaki-bar-san-diego?start=140\n",
      "https://www.yelp.com/biz/j-wata-temaki-bar-san-diego?start=160\n",
      "https://www.yelp.com/biz/j-wata-temaki-bar-san-diego?start=180\n",
      "https://www.yelp.com/biz/j-wata-temaki-bar-san-diego?start=200\n",
      "https://www.yelp.com/biz/j-wata-temaki-bar-san-diego?start=220\n",
      "https://www.yelp.com/biz/j-wata-temaki-bar-san-diego?start=240\n",
      "https://www.yelp.com/biz/j-wata-temaki-bar-san-diego?start=260\n",
      "https://www.yelp.com/biz/j-wata-temaki-bar-san-diego?start=280\n",
      "0\n"
     ]
    }
   ],
   "source": [
    "import time\n",
    "rev_name =[]\n",
    "rev_desc =[]\n",
    "restaurant_namel=[]\n",
    "str2 = '<meta itemprop=\"author\" content=\"'\n",
    "str3 = '<p itemprop=\"description\">'\n",
    "\n",
    "#looping through each page and getting the list of reviews to append to empty lists\n",
    "\n",
    "for i in range(0,review_count,20):\n",
    "    yelp_rest_url1 = ''\n",
    "    yelp_rest_url1 = yelp_rest_url+'?start='+str(i)\n",
    "    print(yelp_rest_url1)\n",
    "    \n",
    "    html = urllib.request.urlopen(yelp_rest_url1).read().decode('utf-8') \n",
    "    \n",
    "    time.sleep(5) \n",
    "    #To check if page is getting loaded, if not load again\n",
    "    if html.find(str1) == '':\n",
    "        time.sleep(2)\n",
    "        html = urllib.request.urlopen(yelp_rest_url).read().decode('utf-8')\n",
    "    \n",
    "    #getting author names\n",
    "    start = html.find(str2)\n",
    "    auth = html[start:]\n",
    "    while auth.find(str2) != -1:\n",
    "        start = auth.find(str2)\n",
    "        rem = auth[start:]\n",
    "        end = rem.find('.')\n",
    "        rev_name.append(rem[len(str2):end])\n",
    "        rem=rem[end:]\n",
    "        auth=rem[end:]\n",
    "        \n",
    "    #getting review names\n",
    "    start1 = html.find(str3)\n",
    "    auth1 = html[start1:]\n",
    "    while auth1.find(str3) != -1:\n",
    "        start1 = auth1.find(str3)\n",
    "        rem1 = auth1[start1:]\n",
    "        end1 = rem1.find('<p>')\n",
    "        rev_desc.append(rem1[len(str3):end1])\n",
    "        rem1=rem1[end1:]\n",
    "        auth1=rem1[end1:]\n",
    "        \n",
    "#duplicating restaurant names\n",
    "for i in range(0,len(rev_name)):\n",
    "        restaurant_namel.append(restaurant_name)\n",
    "\n",
    "#getting the output csv\n",
    "import csv\n",
    "print(len(restaurant_namel))\n",
    "\n",
    "csvData = zip(restaurant_namel,rev_name,rev_desc)\n",
    "\n",
    "with open('restaurant1.csv', 'w') as f:\n",
    "        writerf = csv.writer(f)\n",
    "        writerf.writerows(csvData)\n",
    "        "
   ]
  },
  {
   "cell_type": "markdown",
   "metadata": {},
   "source": []
  }
 ],
 "metadata": {
  "kernelspec": {
   "display_name": "Python 3",
   "language": "python",
   "name": "python3"
  },
  "language_info": {
   "codemirror_mode": {
    "name": "ipython",
    "version": 3
   },
   "file_extension": ".py",
   "mimetype": "text/x-python",
   "name": "python",
   "nbconvert_exporter": "python",
   "pygments_lexer": "ipython3",
   "version": "3.6.9"
  }
 },
 "nbformat": 4,
 "nbformat_minor": 4
}
